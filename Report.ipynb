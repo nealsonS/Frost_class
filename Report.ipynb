{
 "cells": [
  {
   "cell_type": "markdown",
   "metadata": {},
   "source": [
    "DSCI 552- Final Project <br>\n",
    "Nealson Setiawan <br>\n",
    "7206272095"
   ]
  },
  {
   "cell_type": "code",
   "execution_count": 1,
   "metadata": {},
   "outputs": [],
   "source": [
    "import os\n",
    "import os.path as op\n",
    "import json\n",
    "from pathlib import Path\n",
    "import shutil\n",
    "import logging\n",
    "import numpy as np\n",
    "from tqdm import tqdm\n",
    "from skimage import io\n"
   ]
  },
  {
   "cell_type": "code",
   "execution_count": 2,
   "metadata": {},
   "outputs": [],
   "source": [
    "# Logging configuration\n",
    "logging.basicConfig(level=logging.INFO,\n",
    "                    datefmt='%H:%M:%S',\n",
    "                    format='%(asctime)s | %(levelname)-5s | %(module)-15s | %(message)s')\n",
    "\n",
    "IMAGE_SIZE = (299, 299)  # All images contained in this dataset are 299x299 (originally, to match Inception v3 input size)\n",
    "SEED = 17\n",
    "\n",
    "# Head directory containing all image subframes. Update with the relative path of your data directory\n",
    "data_head_dir = Path('./data')\n",
    "\n",
    "# Find all subframe directories\n",
    "subdirs = [Path(subdir.stem) for subdir in data_head_dir.iterdir() if subdir.is_dir()]\n",
    "src_image_ids = ['_'.join(a_path.name.split('_')[:3]) for a_path in subdirs]"
   ]
  },
  {
   "cell_type": "code",
   "execution_count": 3,
   "metadata": {},
   "outputs": [],
   "source": [
    "# Load train/val/test subframe IDs\n",
    "def load_text_ids(file_path):\n",
    "    \"\"\"Simple helper to load all lines from a text file\"\"\"\n",
    "    with open(file_path, 'r') as f:\n",
    "        lines = [line.strip() for line in f.readlines()]\n",
    "    return lines\n",
    "\n",
    "# Load the subframe names for the three data subsets\n",
    "train_ids = load_text_ids('./train_source_images.txt')\n",
    "validate_ids = load_text_ids('./val_source_images.txt')\n",
    "test_ids = load_text_ids('./test_source_images.txt')\n",
    "\n",
    "# Generate a list containing the dataset split for the matching subdirectory names\n",
    "subdir_splits = []\n",
    "for src_id in src_image_ids:\n",
    "    if src_id in train_ids:\n",
    "        subdir_splits.append('train')\n",
    "    elif src_id in validate_ids:\n",
    "        subdir_splits.append('validate')\n",
    "    elif(src_id in test_ids):\n",
    "        subdir_splits.append('test')\n",
    "    else:\n",
    "        logging.warning(f'{src_id}: Did not find designated split in train/validate/test list.')\n",
    "        subdir_splits.append(None)"
   ]
  },
  {
   "cell_type": "markdown",
   "metadata": {},
   "source": [
    "# Loading and pre processing the data\n",
    "### Note that there are multiple ways to preprocess and load your data in order to train your model in tensorflow. We have provided one way to do it in the following cell. Feel free to use your own method and get better results."
   ]
  },
  {
   "cell_type": "code",
   "execution_count": 4,
   "metadata": {},
   "outputs": [
    {
     "name": "stderr",
     "output_type": "stream",
     "text": [
      "09:15:10 | INFO  | utils           | Note: NumExpr detected 12 cores but \"NUMEXPR_MAX_THREADS\" not set, so enforcing safe limit of 8.\n",
      "09:15:10 | INFO  | utils           | NumExpr defaulting to 8 threads.\n"
     ]
    },
    {
     "data": {
      "text/plain": [
       "<BatchDataset element_spec=(TensorSpec(shape=(None, 299, 299, 3), dtype=tf.float32, name=None), TensorSpec(shape=(None,), dtype=tf.int64, name=None))>"
      ]
     },
     "execution_count": 4,
     "metadata": {},
     "output_type": "execute_result"
    }
   ],
   "source": [
    "import random\n",
    "import tensorflow as tf\n",
    "from PIL import Image \n",
    "\n",
    "def load_and_preprocess(img_loc, label):\n",
    "    \n",
    "    def _inner_function(img_loc, label):\n",
    "        \n",
    "        # Convert tensor to native type\n",
    "        img_loc_str = img_loc.numpy().decode('utf-8')\n",
    "        label_str = label.numpy().decode('utf-8')\n",
    "        \n",
    "        img = Image.open(img_loc_str).convert('RGB')\n",
    "\n",
    "        img = np.array(img)\n",
    "        img = tf.image.resize(img, IMAGE_SIZE)\n",
    "        \n",
    "        return img, 1 if label_str=='frost' else 0\n",
    "\n",
    "    # Wrap the Python function\n",
    "    X, y = tf.py_function(_inner_function, [img_loc, label], [tf.float32, tf.int64])\n",
    "    \n",
    "    # set shape\n",
    "    X.set_shape([299, 299, 3])\n",
    "    y.set_shape([])\n",
    "\n",
    "    return X, y\n",
    "\n",
    "def load_subdir_data(dir_path, image_size, seed=None):\n",
    "    \n",
    "    \"\"\"Helper to create a TF dataset from each image subdirectory\"\"\"\n",
    "    \n",
    "    # Grab only the classes that (1) we want to keep and (2) exist in this directory\n",
    "    tile_dir = dir_path / Path('tiles')\n",
    "    label_dir = dir_path /Path('labels')\n",
    "    \n",
    "    loc_list = []\n",
    "    \n",
    "    for folder in os.listdir(tile_dir):\n",
    "        if os.path.isdir(os.path.join(tile_dir, folder)):\n",
    "            for file in os.listdir(os.path.join(tile_dir, folder)):\n",
    "                if file.endswith(\".png\"):\n",
    "                    loc_list.append((os.path.join(os.path.join(tile_dir, folder), file), folder))\n",
    "\n",
    "    return loc_list\n",
    "\n",
    "# Loop over all subframes, loading each into a list\n",
    "tf_data_train, tf_data_test, tf_data_val = [], [], []\n",
    "tf_dataset_train, tf_dataset_test, tf_dataset_val = [], [], []\n",
    "\n",
    "# Update the batch and buffer size as per your model requirements\n",
    "buffer_size = 64\n",
    "batch_size = 32\n",
    "\n",
    "for subdir, split in zip(subdirs, subdir_splits):\n",
    "    full_path = data_head_dir / subdir\n",
    "    if split=='validate':\n",
    "        tf_data_val.extend(load_subdir_data(full_path, IMAGE_SIZE, SEED))\n",
    "    elif split=='train':\n",
    "        tf_data_train.extend(load_subdir_data(full_path, IMAGE_SIZE, SEED))\n",
    "    elif split=='test':\n",
    "        tf_data_test.extend(load_subdir_data(full_path, IMAGE_SIZE, SEED))\n",
    "        \n",
    "random.shuffle(tf_data_train)\n",
    "img_list, label_list = zip(*tf_data_train)\n",
    "img_list_t = tf.convert_to_tensor(img_list)\n",
    "lb_list_t = tf.convert_to_tensor(label_list)\n",
    "\n",
    "tf_dataset_train = tf.data.Dataset.from_tensor_slices((img_list_t, lb_list_t))\n",
    "tf_dataset_train = tf_dataset_train.map(load_and_preprocess, num_parallel_calls=tf.data.experimental.AUTOTUNE)\n",
    "tf_dataset_train = tf_dataset_train.shuffle(buffer_size=buffer_size).batch(batch_size) \n",
    "\n",
    "random.shuffle(tf_data_val)\n",
    "img_list, label_list = zip(*tf_data_val)\n",
    "img_list_t = tf.convert_to_tensor(img_list)\n",
    "lb_list_t = tf.convert_to_tensor(label_list)\n",
    "\n",
    "tf_dataset_val = tf.data.Dataset.from_tensor_slices((img_list_t, lb_list_t))\n",
    "tf_dataset_val = tf_dataset_val.map(load_and_preprocess, num_parallel_calls=tf.data.experimental.AUTOTUNE)\n",
    "tf_dataset_val = tf_dataset_val.shuffle(buffer_size=buffer_size).batch(batch_size) \n",
    "\n",
    "random.shuffle(tf_data_test)\n",
    "img_list, label_list = zip(*tf_data_test)\n",
    "img_list_t = tf.convert_to_tensor(img_list)\n",
    "lb_list_t = tf.convert_to_tensor(label_list)\n",
    "\n",
    "tf_dataset_test = tf.data.Dataset.from_tensor_slices((img_list_t, lb_list_t))\n",
    "tf_dataset_test = tf_dataset_test.map(load_and_preprocess, num_parallel_calls=tf.data.experimental.AUTOTUNE)\n",
    "tf_dataset_test = tf_dataset_test.shuffle(buffer_size=buffer_size).batch(batch_size) \n",
    "\n",
    "tf_dataset_test"
   ]
  },
  {
   "cell_type": "markdown",
   "metadata": {},
   "source": [
    "I am using a Windows PC with a NVIDIA GPU. Only tensorflow versions 2.10 below has GPU support for Native Windows. <br>\n",
    "That's why I am using 2.8.3 (also it has less bugs with randomCropping and randomAugment layers {I read this from StackOverflow})"
   ]
  },
  {
   "cell_type": "code",
   "execution_count": 5,
   "metadata": {},
   "outputs": [
    {
     "name": "stdout",
     "output_type": "stream",
     "text": [
      "TF version: 2.8.3\n",
      "GPU is available\n",
      "Num GPUs Available:  1\n"
     ]
    }
   ],
   "source": [
    "print(\"TF version:\", tf.__version__)\n",
    "print(\"GPU is\", \"available\" if tf.config.list_physical_devices('GPU') else \"NOT AVAILABLE\")\n",
    "print(\"Num GPUs Available: \", len(tf.config.list_physical_devices('GPU')))"
   ]
  },
  {
   "cell_type": "markdown",
   "metadata": {},
   "source": [
    "# AUGMENTATION OF IMAGES\n",
    "\n",
    "First let's initialize a data augmentation model:"
   ]
  },
  {
   "cell_type": "code",
   "execution_count": 6,
   "metadata": {},
   "outputs": [],
   "source": [
    "from tensorflow import keras\n",
    "from tensorflow.keras import layers\n",
    "from tensorflow.keras.layers.experimental import preprocessing\n",
    "from tensorflow.keras import regularizers\n",
    "from tensorflow.keras import activations\n",
    "from keras import backend as K\n",
    "from tensorflow.keras.callbacks import ModelCheckpoint\n",
    "from tensorflow.keras.callbacks import EarlyStopping\n",
    "import matplotlib.pyplot as plt\n",
    "import numpy as np\n",
    "\n",
    "# set layers for random augmentation\n",
    "zoom = preprocessing.RandomZoom(0.7)\n",
    "rotate = preprocessing.RandomRotation(70)\n",
    "flip = preprocessing.RandomFlip(\"horizontal_and_vertical\")\n",
    "translate = preprocessing.RandomTranslation(0.4, 0.4)\n",
    "contrast = preprocessing.RandomContrast(0.6)\n",
    "crop = preprocessing.RandomCrop(250, 250)\n"
   ]
  },
  {
   "cell_type": "markdown",
   "metadata": {},
   "source": [
    "INITIALIZE CNN + MLP MODEL:"
   ]
  },
  {
   "cell_type": "code",
   "execution_count": 7,
   "metadata": {},
   "outputs": [
    {
     "data": {
      "text/plain": [
       "'mod_1 = tf.keras.Sequential([\\n\\n    crop, zoom, rotate, flip, translate, contrast, \\n    # rescale to input to CNN\\n    layers.Rescaling(1./255, input_shape=(250, 250, 3)),\\n    # 1st Conv layer\\n    layers.Conv2D(32, (3,3), padding=\"same\", activation=\"relu\", kernel_regularizer=regularizers.L2(0.001)),\\n    layers.BatchNormalization(),\\n    layers.MaxPooling2D((2,2)),\\n    layers.Dropout(0.3),\\n\\n    # 2nd Clayer\\n    layers.Conv2D(64, (3,3), activation = \\'relu\\', kernel_regularizer=regularizers.L2(0.01)),\\n    layers.BatchNormalization(),\\n    layers.MaxPooling2D((2,2)),\\n    layers.Dropout(0.3),\\n\\n    # 3rd CLayer\\n    layers.Conv2D(128, (3, 3), activation=\"relu\", kernel_regularizer=regularizers.L2(0.1)),\\n    layers.BatchNormalization(),\\n    layers.MaxPooling2D((2,2)),\\n    layers.Dropout(0.3),\\n\\n    # MLP\\n    layers.Flatten(),\\n    layers.Dense(128, activation=\\'relu\\', kernel_regularizer=regularizers.L2(0.001)),\\n    layers.Dropout(0.3),\\n    layers.Dense(2, activation=\\'softmax\\') # sigmoid because it\\'s binary\\n])\\n\\n# COMPILE\\nmod_1.compile(\\n    optimizer = tf.keras.optimizers.Adam(learning_rate = 0.00001),\\n    loss = \\'sparse_categorical_crossentropy\\',\\n    metrics = [\\'accuracy\\']\\n)\\n'"
      ]
     },
     "execution_count": 7,
     "metadata": {},
     "output_type": "execute_result"
    }
   ],
   "source": [
    "'''mod_1 = tf.keras.Sequential([\n",
    "\n",
    "    crop, zoom, rotate, flip, translate, contrast, \n",
    "    # rescale to input to CNN\n",
    "    layers.Rescaling(1./255, input_shape=(250, 250, 3)),\n",
    "    # 1st Conv layer\n",
    "    layers.Conv2D(32, (3,3), padding=\"same\", activation=\"relu\", kernel_regularizer=regularizers.L2(0.001)),\n",
    "    layers.BatchNormalization(),\n",
    "    layers.MaxPooling2D((2,2)),\n",
    "    layers.Dropout(0.3),\n",
    "\n",
    "    # 2nd Clayer\n",
    "    layers.Conv2D(64, (3,3), activation = 'relu', kernel_regularizer=regularizers.L2(0.01)),\n",
    "    layers.BatchNormalization(),\n",
    "    layers.MaxPooling2D((2,2)),\n",
    "    layers.Dropout(0.3),\n",
    "\n",
    "    # 3rd CLayer\n",
    "    layers.Conv2D(128, (3, 3), activation=\"relu\", kernel_regularizer=regularizers.L2(0.1)),\n",
    "    layers.BatchNormalization(),\n",
    "    layers.MaxPooling2D((2,2)),\n",
    "    layers.Dropout(0.3),\n",
    "\n",
    "    # MLP\n",
    "    layers.Flatten(),\n",
    "    layers.Dense(128, activation='relu', kernel_regularizer=regularizers.L2(0.001)),\n",
    "    layers.Dropout(0.3),\n",
    "    layers.Dense(2, activation='softmax') # sigmoid because it's binary\n",
    "])\n",
    "\n",
    "# COMPILE\n",
    "mod_1.compile(\n",
    "    optimizer = tf.keras.optimizers.Adam(learning_rate = 0.00001),\n",
    "    loss = 'sparse_categorical_crossentropy',\n",
    "    metrics = ['accuracy']\n",
    ")\n",
    "'''"
   ]
  },
  {
   "cell_type": "markdown",
   "metadata": {},
   "source": [
    "Because I am using Tensorflow 2.8.3, my EarlyStopping callback doesn't have the parameter start_at_epoch.<br> \n",
    "I am using Tensorflow 2.8.3 because everything after 2.10 doesn't have GPU support for Windows. <br>\n",
    "So I will use this code to add this parameter: <br>\n",
    "https://stackoverflow.com/questions/46287403/is-there-a-way-to-implement-early-stopping-in-keras-only-after-the-first-say-1\n",
    "\n",
    "This is to ensure AT LEAST 20 epochs will run. \n"
   ]
  },
  {
   "cell_type": "code",
   "execution_count": 8,
   "metadata": {},
   "outputs": [
    {
     "name": "stdout",
     "output_type": "stream",
     "text": [
      "Epoch 1/20\n",
      "928/928 [==============================] - ETA: 0s - loss: 8.9873 - accuracy: 0.6163\n",
      "Epoch 1: val_loss improved from inf to 7.81315, saving model to ./res\\mod_1.hdf5\n",
      "928/928 [==============================] - 713s 766ms/step - loss: 8.9873 - accuracy: 0.6163 - val_loss: 7.8131 - val_accuracy: 0.7590\n",
      "Epoch 2/20\n",
      "928/928 [==============================] - ETA: 0s - loss: 6.8217 - accuracy: 0.6448\n",
      "Epoch 2: val_loss improved from 7.81315 to 5.90694, saving model to ./res\\mod_1.hdf5\n",
      "928/928 [==============================] - 711s 766ms/step - loss: 6.8217 - accuracy: 0.6448 - val_loss: 5.9069 - val_accuracy: 0.7049\n",
      "Epoch 3/20\n",
      "928/928 [==============================] - ETA: 0s - loss: 5.0272 - accuracy: 0.6612\n",
      "Epoch 3: val_loss improved from 5.90694 to 4.53275, saving model to ./res\\mod_1.hdf5\n",
      "928/928 [==============================] - 712s 767ms/step - loss: 5.0272 - accuracy: 0.6612 - val_loss: 4.5327 - val_accuracy: 0.6443\n",
      "Epoch 4/20\n",
      "928/928 [==============================] - ETA: 0s - loss: 3.7297 - accuracy: 0.6735\n",
      "Epoch 4: val_loss improved from 4.53275 to 4.02386, saving model to ./res\\mod_1.hdf5\n",
      "928/928 [==============================] - 685s 738ms/step - loss: 3.7297 - accuracy: 0.6735 - val_loss: 4.0239 - val_accuracy: 0.5074\n",
      "Epoch 5/20\n",
      "928/928 [==============================] - ETA: 0s - loss: 2.8518 - accuracy: 0.6742\n",
      "Epoch 5: val_loss improved from 4.02386 to 3.50726, saving model to ./res\\mod_1.hdf5\n",
      "928/928 [==============================] - 709s 763ms/step - loss: 2.8518 - accuracy: 0.6742 - val_loss: 3.5073 - val_accuracy: 0.4695\n",
      "Epoch 6/20\n",
      "928/928 [==============================] - ETA: 0s - loss: 2.2662 - accuracy: 0.6793\n",
      "Epoch 6: val_loss improved from 3.50726 to 2.90720, saving model to ./res\\mod_1.hdf5\n",
      "928/928 [==============================] - 708s 763ms/step - loss: 2.2662 - accuracy: 0.6793 - val_loss: 2.9072 - val_accuracy: 0.4745\n",
      "Epoch 7/20\n",
      "928/928 [==============================] - ETA: 0s - loss: 1.8721 - accuracy: 0.6877\n",
      "Epoch 7: val_loss improved from 2.90720 to 1.58603, saving model to ./res\\mod_1.hdf5\n",
      "928/928 [==============================] - 708s 763ms/step - loss: 1.8721 - accuracy: 0.6877 - val_loss: 1.5860 - val_accuracy: 0.7722\n",
      "Epoch 8/20\n",
      "928/928 [==============================] - ETA: 0s - loss: 1.6110 - accuracy: 0.6927\n",
      "Epoch 8: val_loss improved from 1.58603 to 1.27386, saving model to ./res\\mod_1.hdf5\n",
      "928/928 [==============================] - 707s 761ms/step - loss: 1.6110 - accuracy: 0.6927 - val_loss: 1.2739 - val_accuracy: 0.8993\n",
      "Epoch 9/20\n",
      "928/928 [==============================] - ETA: 0s - loss: 1.4217 - accuracy: 0.7014\n",
      "Epoch 9: val_loss did not improve from 1.27386\n",
      "928/928 [==============================] - 705s 760ms/step - loss: 1.4217 - accuracy: 0.7014 - val_loss: 1.9484 - val_accuracy: 0.4497\n",
      "Epoch 10/20\n",
      "928/928 [==============================] - ETA: 0s - loss: 1.2874 - accuracy: 0.7078\n",
      "Epoch 10: val_loss did not improve from 1.27386\n",
      "928/928 [==============================] - 706s 760ms/step - loss: 1.2874 - accuracy: 0.7078 - val_loss: 1.8573 - val_accuracy: 0.4913\n",
      "Epoch 11/20\n",
      "928/928 [==============================] - ETA: 0s - loss: 1.1804 - accuracy: 0.7169\n",
      "Epoch 11: val_loss did not improve from 1.27386\n",
      "928/928 [==============================] - 698s 751ms/step - loss: 1.1804 - accuracy: 0.7169 - val_loss: 3.0726 - val_accuracy: 0.3310\n",
      "Epoch 12/20\n",
      "928/928 [==============================] - ETA: 0s - loss: 1.1005 - accuracy: 0.7193\n",
      "Epoch 12: val_loss did not improve from 1.27386\n",
      "928/928 [==============================] - 698s 752ms/step - loss: 1.1005 - accuracy: 0.7193 - val_loss: 2.1017 - val_accuracy: 0.4383\n",
      "Epoch 13/20\n",
      "928/928 [==============================] - ETA: 0s - loss: 1.0354 - accuracy: 0.7207\n",
      "Epoch 13: val_loss did not improve from 1.27386\n",
      "928/928 [==============================] - 701s 756ms/step - loss: 1.0354 - accuracy: 0.7207 - val_loss: 2.7041 - val_accuracy: 0.3591\n",
      "Epoch 14/20\n",
      "928/928 [==============================] - ETA: 0s - loss: 0.9813 - accuracy: 0.7263\n",
      "Epoch 14: val_loss did not improve from 1.27386\n",
      "928/928 [==============================] - 699s 753ms/step - loss: 0.9813 - accuracy: 0.7263 - val_loss: 1.8502 - val_accuracy: 0.4803\n",
      "Epoch 15/20\n",
      "928/928 [==============================] - ETA: 0s - loss: 0.9381 - accuracy: 0.7277\n",
      "Epoch 15: val_loss did not improve from 1.27386\n",
      "928/928 [==============================] - 700s 754ms/step - loss: 0.9381 - accuracy: 0.7277 - val_loss: 2.0110 - val_accuracy: 0.4308\n",
      "Epoch 16/20\n",
      "928/928 [==============================] - ETA: 0s - loss: 0.9059 - accuracy: 0.7265\n",
      "Epoch 16: val_loss did not improve from 1.27386\n",
      "928/928 [==============================] - 692s 745ms/step - loss: 0.9059 - accuracy: 0.7265 - val_loss: 1.7293 - val_accuracy: 0.4510\n",
      "Epoch 17/20\n",
      "928/928 [==============================] - ETA: 0s - loss: 0.8719 - accuracy: 0.7312\n",
      "Epoch 17: val_loss did not improve from 1.27386\n",
      "928/928 [==============================] - 692s 745ms/step - loss: 0.8719 - accuracy: 0.7312 - val_loss: 1.5108 - val_accuracy: 0.5529\n",
      "Epoch 18/20\n",
      "928/928 [==============================] - ETA: 0s - loss: 0.8438 - accuracy: 0.7335\n",
      "Epoch 18: val_loss did not improve from 1.27386\n",
      "928/928 [==============================] - 700s 754ms/step - loss: 0.8438 - accuracy: 0.7335 - val_loss: 1.6881 - val_accuracy: 0.4569\n",
      "Epoch 19/20\n",
      "928/928 [==============================] - ETA: 0s - loss: 0.8224 - accuracy: 0.7313\n",
      "Epoch 19: val_loss did not improve from 1.27386\n",
      "928/928 [==============================] - 695s 748ms/step - loss: 0.8224 - accuracy: 0.7313 - val_loss: 1.4892 - val_accuracy: 0.4914\n",
      "Epoch 20/20\n",
      "928/928 [==============================] - ETA: 0s - loss: 0.8021 - accuracy: 0.7321\n",
      "Epoch 20: val_loss improved from 1.27386 to 1.20240, saving model to ./res\\mod_1.hdf5\n",
      "928/928 [==============================] - 695s 749ms/step - loss: 0.8021 - accuracy: 0.7321 - val_loss: 1.2024 - val_accuracy: 0.5520\n"
     ]
    }
   ],
   "source": [
    "'''class CustomStopper(EarlyStopping):\n",
    "    def __init__(self, monitor='val_loss', min_delta=0, patience=0, verbose=0, restore_best_weights=False, mode='auto', start_epoch=100):\n",
    "        super(CustomStopper, self).__init__(\n",
    "            monitor=monitor,\n",
    "            min_delta=min_delta,\n",
    "            patience=patience,\n",
    "            verbose=verbose,\n",
    "            mode=mode,\n",
    "            restore_best_weights=restore_best_weights\n",
    "        )\n",
    "        self.start_epoch = start_epoch\n",
    "\n",
    "    def on_epoch_end(self, epoch, logs=None):\n",
    "        if epoch > self.start_epoch:\n",
    "            super().on_epoch_end(epoch, logs)\n",
    "\n",
    "# EARLY STOPPING\n",
    "early_stop = CustomStopper(monitor='val_loss', verbose=1, restore_best_weights=True, start_epoch=20)\n",
    "\n",
    "# Model Checkpoints TO SAVE BEST MODEL\n",
    "checkpoint = ModelCheckpoint('./res/mod_1.hdf5', monitor='val_loss', verbose=1,\n",
    "                             save_best_only=True, save_weights_only=False,\n",
    "                             mode='auto', save_frequency=1)\n",
    "\n",
    "# fit model\n",
    "#result_mod1 = mod_1.fit(tf_dataset_train, epochs=20, validation_data=tf_dataset_val, callbacks=[early_stop, checkpoint], verbose= 1)\n",
    "'''\n",
    "# I SAVED THE TRAINING TEXT\n",
    "with open('./res/mod_1_textOutput.txt') as f_in:\n",
    "    print(f_in.read())"
   ]
  },
  {
   "cell_type": "markdown",
   "metadata": {},
   "source": [
    "Because the validation loss doesn't improve for like 12 epochs, I don't think early stopping is necessary. <br>\n",
    "I believe that the model has already converges early on at epoch 8 and won't get better unless we train for another 20 epochs. <br>\n",
    "At epoch 20, the model is already overfitting too much."
   ]
  },
  {
   "cell_type": "markdown",
   "metadata": {},
   "source": [
    "### SAVE AND LOAD MODELS AND TRAINING HISTORY"
   ]
  },
  {
   "cell_type": "code",
   "execution_count": 9,
   "metadata": {},
   "outputs": [],
   "source": [
    "import pickle\n",
    "'''mod_1.save('./res/mod_1.keras')\n",
    "\n",
    "with open('./res/result_mod1.pickle', 'wb') as f_out:\n",
    "    pickle.dump(result_mod1.history, f_out)'''\n",
    "\n",
    "# load model\n",
    "mod = tf.keras.models.load_model('./res/mod_1.keras')\n",
    "\n",
    "# load model history\n",
    "with open('./res/result_mod1.pickle', 'rb') as f_in:\n",
    "    mod_1_hist = pickle.load(f_in)"
   ]
  },
  {
   "cell_type": "markdown",
   "metadata": {},
   "source": [
    "## CONTINUE TRANING TO PERFORM EARLY STOPPING\n",
    "\n",
    "I admit that I made a mistake. For ALL the models, **I put the number of epochs as the required MINIMUM number of epochs so early stopping couldn't perform**. <br>\n",
    "So, I decided to re-load the models and **CONTINUE TRAINING** and perform early stopping then. <br>\n",
    "Since I did not do early stopping before, I will continue training on the same dataset and perform early stopping there."
   ]
  },
  {
   "cell_type": "code",
   "execution_count": 10,
   "metadata": {},
   "outputs": [
    {
     "name": "stdout",
     "output_type": "stream",
     "text": [
      "Epoch 1/50\n",
      "928/928 [==============================] - ETA: 0s - loss: 0.8121 - accuracy: 0.7154\n",
      "Epoch 1: val_loss improved from inf to 1.35569, saving model to ./res\\mod.hdf5\n",
      "928/928 [==============================] - 703s 757ms/step - loss: 0.8121 - accuracy: 0.7154 - val_loss: 1.3557 - val_accuracy: 0.6435\n",
      "Epoch 2/50\n",
      "928/928 [==============================] - ETA: 0s - loss: 0.7887 - accuracy: 0.7241Restoring model weights from the end of the best epoch: 1.\n",
      "\n",
      "Epoch 2: val_loss did not improve from 1.35569\n",
      "928/928 [==============================] - 687s 740ms/step - loss: 0.7887 - accuracy: 0.7241 - val_loss: 1.3814 - val_accuracy: 0.6248\n",
      "Epoch 2: early stopping\n"
     ]
    }
   ],
   "source": [
    "'''# set early stop\n",
    "early_stop = EarlyStopping(monitor='val_loss', verbose=1, restore_best_weights=True)\n",
    "\n",
    "# set checkpoint\n",
    "checkpoint = ModelCheckpoint('./res/mod.hdf5', monitor='val_loss', verbose=1,\n",
    "                             save_best_only=True, save_weights_only=False,\n",
    "                             mode='auto', save_frequency=1)\n",
    "\n",
    "# continue training\n",
    "mod_hist = mod.fit(tf_dataset_train, epochs=50, validation_data=tf_dataset_val, callbacks=[early_stop, checkpoint], verbose= 1, batch_size = 32)'''\n",
    "\n",
    "# I SAVED THE TRAINING TEXT\n",
    "with open('./res/mod_1_es_textOutput.txt') as f_in:\n",
    "    print(f_in.read())"
   ]
  },
  {
   "cell_type": "markdown",
   "metadata": {},
   "source": [
    "RESAVE MODEL:"
   ]
  },
  {
   "cell_type": "code",
   "execution_count": 11,
   "metadata": {},
   "outputs": [],
   "source": [
    "'''mod.save('./res/mod_es.keras')\n",
    "\n",
    "with open('./res/result_mod_es.pickle', 'wb') as f_out:\n",
    "    pickle.dump(mod_hist.history, f_out)\n",
    "'''\n",
    "mod_es = tf.keras.models.load_model('./res/mod_es.keras')\n",
    "\n",
    "with open('./res/result_mod_es.pickle', 'rb') as f_in:\n",
    "    mod_es_hist = pickle.load(f_in)"
   ]
  },
  {
   "cell_type": "markdown",
   "metadata": {},
   "source": [
    "Model summary:"
   ]
  },
  {
   "cell_type": "code",
   "execution_count": 40,
   "metadata": {},
   "outputs": [
    {
     "name": "stdout",
     "output_type": "stream",
     "text": [
      "Model: \"sequential_5\"\n",
      "_________________________________________________________________\n",
      " Layer (type)                Output Shape              Param #   \n",
      "=================================================================\n",
      " random_crop_1 (RandomCrop)  (None, 250, 250, 3)       0         \n",
      "                                                                 \n",
      " random_zoom_1 (RandomZoom)  (None, 250, 250, 3)       0         \n",
      "                                                                 \n",
      " random_rotation_1 (RandomRo  (None, 250, 250, 3)      0         \n",
      " tation)                                                         \n",
      "                                                                 \n",
      " random_flip_1 (RandomFlip)  (None, 250, 250, 3)       0         \n",
      "                                                                 \n",
      " random_translation_1 (Rando  (None, 250, 250, 3)      0         \n",
      " mTranslation)                                                   \n",
      "                                                                 \n",
      " random_contrast_1 (RandomCo  (None, 250, 250, 3)      0         \n",
      " ntrast)                                                         \n",
      "                                                                 \n",
      " rescaling_5 (Rescaling)     (None, 250, 250, 3)       0         \n",
      "                                                                 \n",
      " conv2d_15 (Conv2D)          (None, 250, 250, 32)      896       \n",
      "                                                                 \n",
      " batch_normalization_15 (Bat  (None, 250, 250, 32)     128       \n",
      " chNormalization)                                                \n",
      "                                                                 \n",
      " max_pooling2d_15 (MaxPoolin  (None, 125, 125, 32)     0         \n",
      " g2D)                                                            \n",
      "                                                                 \n",
      " dropout_17 (Dropout)        (None, 125, 125, 32)      0         \n",
      "                                                                 \n",
      " conv2d_16 (Conv2D)          (None, 123, 123, 64)      18496     \n",
      "                                                                 \n",
      " batch_normalization_16 (Bat  (None, 123, 123, 64)     256       \n",
      " chNormalization)                                                \n",
      "                                                                 \n",
      " max_pooling2d_16 (MaxPoolin  (None, 61, 61, 64)       0         \n",
      " g2D)                                                            \n",
      "                                                                 \n",
      " dropout_18 (Dropout)        (None, 61, 61, 64)        0         \n",
      "                                                                 \n",
      " conv2d_17 (Conv2D)          (None, 59, 59, 128)       73856     \n",
      "                                                                 \n",
      " batch_normalization_17 (Bat  (None, 59, 59, 128)      512       \n",
      " chNormalization)                                                \n",
      "                                                                 \n",
      " max_pooling2d_17 (MaxPoolin  (None, 29, 29, 128)      0         \n",
      " g2D)                                                            \n",
      "                                                                 \n",
      " dropout_19 (Dropout)        (None, 29, 29, 128)       0         \n",
      "                                                                 \n",
      " flatten_5 (Flatten)         (None, 107648)            0         \n",
      "                                                                 \n",
      " dense_10 (Dense)            (None, 128)               13779072  \n",
      "                                                                 \n",
      " dropout_20 (Dropout)        (None, 128)               0         \n",
      "                                                                 \n",
      " dense_11 (Dense)            (None, 2)                 258       \n",
      "                                                                 \n",
      "=================================================================\n",
      "Total params: 13,873,474\n",
      "Trainable params: 13,873,026\n",
      "Non-trainable params: 448\n",
      "_________________________________________________________________\n"
     ]
    }
   ],
   "source": [
    "mod_es.summary()"
   ]
  },
  {
   "cell_type": "markdown",
   "metadata": {},
   "source": [
    "Combine history between both epochs to plot:"
   ]
  },
  {
   "cell_type": "code",
   "execution_count": 12,
   "metadata": {},
   "outputs": [],
   "source": [
    "# copy hist\n",
    "mod_finalhist = dict(mod_1_hist)\n",
    "\n",
    "for k in mod_finalhist.keys():\n",
    "\n",
    "    # append to \n",
    "    mod_finalhist[k].extend(mod_es_hist[k])"
   ]
  },
  {
   "cell_type": "markdown",
   "metadata": {},
   "source": [
    "PLOT TRAINING AND VALIDATION ERROR VS EPOCHS"
   ]
  },
  {
   "cell_type": "code",
   "execution_count": 13,
   "metadata": {},
   "outputs": [
    {
     "data": {
      "image/png": "[encoded data removed]",
      "text/plain": [
       "<Figure size 640x480 with 1 Axes>"
      ]
     },
     "metadata": {},
     "output_type": "display_data"
    }
   ],
   "source": [
    "def plot_trainVal(acc_list, val_list):\n",
    "\n",
    "    plt.plot(1- np.array(acc_list), label='Training Error')\n",
    "    plt.plot (1- np.array(val_list), label='Validation Error')\n",
    "\n",
    "    plt.title('Training & Validation Error vs Epochs')\n",
    "    plt.xlabel('Epochs')\n",
    "    plt.ylabel('Error')\n",
    "    plt.legend()\n",
    "    plt.show()\n",
    "\n",
    "plot_trainVal(mod_finalhist['accuracy'], mod_finalhist['val_accuracy'])"
   ]
  },
  {
   "cell_type": "markdown",
   "metadata": {},
   "source": [
    "Comments: <br>\n",
    "As you can see from above, the validation error has some big spikes and is very volatile, while the training error is steadily decreasing. <br>\n",
    "This shows that there might be high variance in the model, which suggests overfitting. <br>\n",
    "This is weird because I spent so much time trying to increase the regularization parameters (augmentation layers intensity) and decrease learning rate. <br>\n",
    "I even added dropout layers after every convolutional layer, but it still shows signs of overfitting! <br>\n",
    "CNNs really do have a overfitting problem."
   ]
  },
  {
   "cell_type": "markdown",
   "metadata": {},
   "source": [
    "Testing Metrics (Recall, Precision, F1, Accuracy):"
   ]
  },
  {
   "cell_type": "code",
   "execution_count": 14,
   "metadata": {},
   "outputs": [],
   "source": [
    "from sklearn.metrics import precision_score, recall_score, f1_score,  accuracy_score\n",
    "\n",
    "def get_recall_precision_f1_accuracy(test_df, mod):\n",
    "\n",
    "    # container list to store\n",
    "    true_list = []\n",
    "    pred_list = []\n",
    "\n",
    "    # get every batch\n",
    "    for batch in test_df:\n",
    "\n",
    "        # get x and y from batch\n",
    "        X_test, y_test = batch\n",
    "    \n",
    "        # get predictions probabilities\n",
    "        y_preda = mod.predict(X_test)\n",
    "\n",
    "        # get predictions based on which prob is higher\n",
    "        y_pred = np.argmax(y_preda, axis=1)\n",
    "\n",
    "        # add to list\n",
    "        true_list.extend(y_test.numpy())\n",
    "        pred_list.extend(y_pred)\n",
    "\n",
    "    # convert to numpy array\n",
    "    true_list = np.array(true_list)\n",
    "    pred_list = np.array(pred_list)\n",
    "\n",
    "    # calculate recall, precision, f1, accuracy\n",
    "    recall = recall_score(true_list, pred_list)\n",
    "    precision = precision_score(true_list, pred_list)\n",
    "    f1 = f1_score(true_list, pred_list)\n",
    "    acc = accuracy_score(true_list, pred_list)\n",
    "\n",
    "    return [recall, precision, f1, acc]"
   ]
  },
  {
   "cell_type": "markdown",
   "metadata": {},
   "source": [
    "Training, validation, and testing metrics:"
   ]
  },
  {
   "cell_type": "code",
   "execution_count": 16,
   "metadata": {},
   "outputs": [
    {
     "name": "stdout",
     "output_type": "stream",
     "text": [
      "Training: recall: 0.9112588855767025, precision: 0.7598833596252211, f1: 0.8287151682610848, accuracy: 0.7785976616462819\n",
      "\n",
      "Validation: recall: 0.9460352422907489, precision: 0.47301762114537443, f1: 0.630690161527166, accuracy: 0.643452064504696\n",
      "\n",
      "Testing: recall: 0.9136228435455086, precision: 0.792057761732852, f1: 0.8485082872928178, accuracy: 0.7861654838961242\n",
      "\n"
     ]
    }
   ],
   "source": [
    "mod_1_train = get_recall_precision_f1_accuracy(tf_dataset_train, mod_es)\n",
    "mod_1_val = get_recall_precision_f1_accuracy(tf_dataset_val, mod_es)\n",
    "mod_1_test = get_recall_precision_f1_accuracy(tf_dataset_test, mod_es)\n",
    "print('Training: recall: {}, precision: {}, f1: {}, accuracy: {}\\n'.format(mod_1_train[0], mod_1_train[1], mod_1_train[2], mod_1_train[3]))\n",
    "print('Validation: recall: {}, precision: {}, f1: {}, accuracy: {}\\n'.format(mod_1_val[0], mod_1_val[1], mod_1_val[2], mod_1_val[3]))\n",
    "print('Testing: recall: {}, precision: {}, f1: {}, accuracy: {}\\n'.format(mod_1_test[0], mod_1_test[1], mod_1_test[2], mod_1_test[3]))"
   ]
  },
  {
   "cell_type": "markdown",
   "metadata": {},
   "source": [
    "Comments: <br>\n",
    "For just 20 epochs, this isn't that bad. Testing accuracy is not ideal, but it's alright. <br>\n",
    "F1 is pretty alright, but there is high recall and low precision, which suggests a bias towards the positive class."
   ]
  },
  {
   "cell_type": "markdown",
   "metadata": {},
   "source": [
    "# TRANSFER LEARNING"
   ]
  },
  {
   "cell_type": "markdown",
   "metadata": {},
   "source": [
    "EfficientNetB0"
   ]
  },
  {
   "cell_type": "code",
   "execution_count": 17,
   "metadata": {},
   "outputs": [
    {
     "name": "stdout",
     "output_type": "stream",
     "text": [
      "Epoch 1/10\n",
      "928/928 [==============================] - ETA: 0s - loss: 0.4737 - accuracy: 0.7830\n",
      "Epoch 1: val_loss improved from 1.20240 to 0.47739, saving model to ./res\\mod_1.hdf5\n",
      "928/928 [==============================] - 755s 803ms/step - loss: 0.4737 - accuracy: 0.7830 - val_loss: 0.4774 - val_accuracy: 0.7834\n",
      "Epoch 2/10\n",
      "928/928 [==============================] - ETA: 0s - loss: 0.3858 - accuracy: 0.8311\n",
      "Epoch 2: val_loss did not improve from 0.47739\n",
      "928/928 [==============================] - 739s 797ms/step - loss: 0.3858 - accuracy: 0.8311 - val_loss: 0.7901 - val_accuracy: 0.6271\n",
      "Epoch 3/10\n",
      "928/928 [==============================] - ETA: 0s - loss: 0.3584 - accuracy: 0.8417\n",
      "Epoch 3: val_loss did not improve from 0.47739\n",
      "928/928 [==============================] - 739s 797ms/step - loss: 0.3584 - accuracy: 0.8417 - val_loss: 0.7659 - val_accuracy: 0.6769\n",
      "Epoch 4/10\n",
      "928/928 [==============================] - ETA: 0s - loss: 0.3444 - accuracy: 0.8498\n",
      "Epoch 4: val_loss did not improve from 0.47739\n",
      "928/928 [==============================] - 740s 797ms/step - loss: 0.3444 - accuracy: 0.8498 - val_loss: 0.6259 - val_accuracy: 0.7034\n",
      "Epoch 5/10\n",
      "928/928 [==============================] - ETA: 0s - loss: 0.3324 - accuracy: 0.8555\n",
      "Epoch 5: val_loss did not improve from 0.47739\n",
      "928/928 [==============================] - 740s 797ms/step - loss: 0.3324 - accuracy: 0.8555 - val_loss: 0.5065 - val_accuracy: 0.7650\n",
      "Epoch 6/10\n",
      "928/928 [==============================] - ETA: 0s - loss: 0.3201 - accuracy: 0.8609\n",
      "Epoch 6: val_loss did not improve from 0.47739\n",
      "928/928 [==============================] - 740s 797ms/step - loss: 0.3201 - accuracy: 0.8609 - val_loss: 0.6374 - val_accuracy: 0.7094\n",
      "Epoch 7/10\n",
      "928/928 [==============================] - ETA: 0s - loss: 0.3150 - accuracy: 0.8637\n",
      "Epoch 7: val_loss did not improve from 0.47739\n",
      "928/928 [==============================] - 740s 798ms/step - loss: 0.3150 - accuracy: 0.8637 - val_loss: 0.5151 - val_accuracy: 0.7499\n",
      "Epoch 8/10\n",
      "928/928 [==============================] - ETA: 0s - loss: 0.3120 - accuracy: 0.8666\n",
      "Epoch 8: val_loss did not improve from 0.47739\n",
      "928/928 [==============================] - 739s 796ms/step - loss: 0.3120 - accuracy: 0.8666 - val_loss: 0.8587 - val_accuracy: 0.6264\n",
      "Epoch 9/10\n",
      "928/928 [==============================] - ETA: 0s - loss: 0.3005 - accuracy: 0.8730\n",
      "Epoch 9: val_loss did not improve from 0.47739\n",
      "928/928 [==============================] - 739s 796ms/step - loss: 0.3005 - accuracy: 0.8730 - val_loss: 0.6379 - val_accuracy: 0.7135\n",
      "Epoch 10/10\n",
      "928/928 [==============================] - ETA: 0s - loss: 0.3012 - accuracy: 0.8705\n",
      "Epoch 10: val_loss did not improve from 0.47739\n",
      "928/928 [==============================] - 739s 796ms/step - loss: 0.3012 - accuracy: 0.8705 - val_loss: 0.7674 - val_accuracy: 0.6769\n"
     ]
    }
   ],
   "source": [
    "'''from tensorflow.keras.applications import EfficientNetB0\n",
    "en_freeze = EfficientNetB0(weights='imagenet', include_top=False, input_shape=(250,250,3))\n",
    "en_freeze.trainable = False\n",
    "\n",
    "# data augmented model\n",
    "data_aug = tf.keras.Sequential(\n",
    "    [crop, zoom, rotate, flip, translate, contrast]\n",
    ")\n",
    "\n",
    "# Model 2\n",
    "inputs = tf.keras.Input(shape=(299, 299, 3))\n",
    "x = data_aug(inputs)\n",
    "x = tf.keras.applications.efficientnet.preprocess_input(x)\n",
    "x = en_freeze(x, training=False)\n",
    "x = layers.Flatten()(x)\n",
    "x = tf.keras.layers.Dense(128, activation = 'relu')(x)\n",
    "x = layers.BatchNormalization()(x)\n",
    "x = tf.keras.layers.Dropout(0.3)(x)\n",
    "outputs = layers.Dense(2, activation=\"softmax\")(x)\n",
    "en_mod2 = tf.keras.Model(inputs, outputs)\n",
    "\n",
    "en_mod2.compile(\n",
    "    optimizer = tf.keras.optimizers.Adam(0.00001),\n",
    "    loss = 'sparse_categorical_crossentropy',\n",
    "    metrics = ['accuracy']\n",
    ")\n",
    "early_stop_trf = CustomStopper(monitor='val_loss', verbose=1, restore_best_weights=True, start_epoch=10)\n",
    "\n",
    "result_en = en_mod2.fit(tf_dataset_train, epochs=10, validation_data=tf_dataset_val, callbacks=[early_stop_trf, checkpoint], verbose= 1)'''\n",
    "\n",
    "# I SAVED THE TRAINING TEXT\n",
    "with open('./res/en_mod2_textOutput.txt') as f_in:\n",
    "    print(f_in.read())"
   ]
  },
  {
   "cell_type": "markdown",
   "metadata": {},
   "source": [
    "### SAVE AND LOAD MODELS AND TRAINING HISTORY"
   ]
  },
  {
   "cell_type": "code",
   "execution_count": 18,
   "metadata": {},
   "outputs": [],
   "source": [
    "import pickle\n",
    "'''en_mod2.save('./res/en_mod2.keras')\n",
    "\n",
    "with open('./res/result_en.pickle', 'wb') as f_out:\n",
    "    pickle.dump(result_en.history, f_out)\n",
    "'''\n",
    "# load model\n",
    "en_mod = tf.keras.models.load_model('./res/en_mod2.keras')\n",
    "\n",
    "with open('./res/result_en.pickle', 'rb') as f_in:\n",
    "   en_hist = pickle.load(f_in)"
   ]
  },
  {
   "cell_type": "markdown",
   "metadata": {},
   "source": [
    "## CONTINUE TRANING TO PERFORM EARLY STOPPING\n",
    "\n",
    "I admit that I made a mistake. For ALL the models, **I put the number of epochs as the required MINIMUM number of epochs so early stopping couldn't perform**. <br>\n",
    "So, I decided to re-load the models and **CONTINUE TRAINING** and perform early stopping then. <br>\n",
    "Since I did not do early stopping before, I will continue training on the same dataset and perform early stopping there."
   ]
  },
  {
   "cell_type": "code",
   "execution_count": 19,
   "metadata": {},
   "outputs": [
    {
     "name": "stdout",
     "output_type": "stream",
     "text": [
      "Epoch 1/50\n",
      "928/928 [==============================] - ETA: 0s - loss: 0.2984 - accuracy: 0.8739\n",
      "Epoch 1: val_loss improved from inf to 0.51638, saving model to ./res\\en_es_mod.hdf5\n",
      "928/928 [==============================] - 796s 851ms/step - loss: 0.2984 - accuracy: 0.8739 - val_loss: 0.5164 - val_accuracy: 0.7629\n",
      "Epoch 2/50\n",
      "928/928 [==============================] - ETA: 0s - loss: 0.2953 - accuracy: 0.8729Restoring model weights from the end of the best epoch: 1.\n",
      "\n",
      "Epoch 2: val_loss did not improve from 0.51638\n",
      "928/928 [==============================] - 747s 805ms/step - loss: 0.2953 - accuracy: 0.8729 - val_loss: 0.5594 - val_accuracy: 0.7626\n",
      "Epoch 2: early stopping\n"
     ]
    }
   ],
   "source": [
    "'''# set early stop\n",
    "early_stop = EarlyStopping(monitor='val_loss', verbose=1, restore_best_weights=True)\n",
    "\n",
    "# set checkpoint\n",
    "checkpoint = ModelCheckpoint('./res/en_es_mod.hdf5', monitor='val_loss', verbose=1,\n",
    "                             save_best_only=True, save_weights_only=False,\n",
    "                             mode='auto', save_frequency=1)\n",
    "\n",
    "# continue training\n",
    "en_es_hist = en_mod.fit(tf_dataset_train, epochs=50, validation_data=tf_dataset_val, callbacks=[early_stop, checkpoint], verbose= 1, batch_size = 32)'''\n",
    "\n",
    "# I SAVED THE TRAINING TEXT\n",
    "with open('./res/en_es_textOutput.txt') as f_in:\n",
    "    print(f_in.read())"
   ]
  },
  {
   "cell_type": "code",
   "execution_count": 20,
   "metadata": {},
   "outputs": [],
   "source": [
    "'''en_mod.save('./res/mod_en_es.keras')\n",
    "\n",
    "with open('./res/result_en_es.pickle', 'wb') as f_out:\n",
    "    pickle.dump(en_es_hist.history, f_out)\n",
    "'''\n",
    "en_es = tf.keras.models.load_model('./res/mod_en_es.keras')\n",
    "\n",
    "with open('./res/result_en_es.pickle', 'rb') as f_in:\n",
    "    en_es_hist1 = pickle.load(f_in)"
   ]
  },
  {
   "cell_type": "markdown",
   "metadata": {},
   "source": [
    "Model summary:\n",
    "\n",
    "The first sequential layer after inputs is my data augmentation layer (you can check above)"
   ]
  },
  {
   "cell_type": "code",
   "execution_count": 39,
   "metadata": {},
   "outputs": [
    {
     "name": "stdout",
     "output_type": "stream",
     "text": [
      "Model: \"model_3\"\n",
      "_________________________________________________________________\n",
      " Layer (type)                Output Shape              Param #   \n",
      "=================================================================\n",
      " input_9 (InputLayer)        [(None, 299, 299, 3)]     0         \n",
      "                                                                 \n",
      " sequential_9 (Sequential)   (None, 250, 250, 3)       0         \n",
      "                                                                 \n",
      " efficientnetb0 (Functional)  (None, 8, 8, 1280)       4049571   \n",
      "                                                                 \n",
      " flatten_6 (Flatten)         (None, 81920)             0         \n",
      "                                                                 \n",
      " dense_18 (Dense)            (None, 128)               10485888  \n",
      "                                                                 \n",
      " batch_normalization_21 (Bat  (None, 128)              512       \n",
      " chNormalization)                                                \n",
      "                                                                 \n",
      " dropout_24 (Dropout)        (None, 128)               0         \n",
      "                                                                 \n",
      " dense_19 (Dense)            (None, 2)                 258       \n",
      "                                                                 \n",
      "=================================================================\n",
      "Total params: 14,536,229\n",
      "Trainable params: 10,486,402\n",
      "Non-trainable params: 4,049,827\n",
      "_________________________________________________________________\n"
     ]
    }
   ],
   "source": [
    "en_es.summary()"
   ]
  },
  {
   "cell_type": "markdown",
   "metadata": {},
   "source": [
    "Combine history between both epochs to plot:"
   ]
  },
  {
   "cell_type": "code",
   "execution_count": 21,
   "metadata": {},
   "outputs": [],
   "source": [
    "# copy hist\n",
    "en_finalhist = dict(en_hist)\n",
    "\n",
    "for k in en_finalhist.keys():\n",
    "\n",
    "    # append to \n",
    "    en_finalhist[k].extend(en_es_hist1[k])"
   ]
  },
  {
   "cell_type": "markdown",
   "metadata": {},
   "source": [
    "PLOT TRAINING AND VALIDATION ERROR VS EPOCHS"
   ]
  },
  {
   "cell_type": "code",
   "execution_count": 22,
   "metadata": {},
   "outputs": [
    {
     "data": {
      "image/png": "[encoded data removed]",
      "text/plain": [
       "<Figure size 640x480 with 1 Axes>"
      ]
     },
     "metadata": {},
     "output_type": "display_data"
    }
   ],
   "source": [
    "plot_trainVal(en_finalhist['accuracy'], en_finalhist['val_accuracy'])"
   ]
  },
  {
   "cell_type": "markdown",
   "metadata": {},
   "source": [
    "Comments: <br>\n",
    "\n",
    "Again, the training error is incredibly volatile, and that's after heavy augmentation and lowering the learning rate. <br>\n",
    "\n",
    "The validation error seems to increase, but it tends to decrease a lot. <br>\n",
    "This suggests overfitting. <br>"
   ]
  },
  {
   "cell_type": "markdown",
   "metadata": {},
   "source": [
    "Training, validation, and testing metrics:"
   ]
  },
  {
   "cell_type": "code",
   "execution_count": 23,
   "metadata": {},
   "outputs": [
    {
     "name": "stdout",
     "output_type": "stream",
     "text": [
      "Training: recall: 0.9468585186883742, precision: 0.9162875846000222, f1: 0.931322244149986, accuracy: 0.9179217628626302\n",
      "\n",
      "Validation: recall: 0.9848568281938326, precision: 0.5771216521458535, f1: 0.7277721261444557, accuracy: 0.7628920786815524\n",
      "\n",
      "Testing: recall: 0.9906008328375967, precision: 0.9093490607252075, f1: 0.9482375718922613, accuracy: 0.9291117523200499\n",
      "\n"
     ]
    }
   ],
   "source": [
    "en_train = get_recall_precision_f1_accuracy(tf_dataset_train, en_es)\n",
    "en_val = get_recall_precision_f1_accuracy(tf_dataset_val, en_es)\n",
    "en_test = get_recall_precision_f1_accuracy(tf_dataset_test, en_es)\n",
    "print('Training: recall: {}, precision: {}, f1: {}, accuracy: {}\\n'.format(en_train[0], en_train[1], en_train[2], en_train[3]))\n",
    "print('Validation: recall: {}, precision: {}, f1: {}, accuracy: {}\\n'.format(en_val[0], en_val[1], en_val[2], en_val[3]))\n",
    "print('Testing: recall: {}, precision: {}, f1: {}, accuracy: {}\\n'.format(en_test[0], en_test[1], en_test[2], en_test[3]))"
   ]
  },
  {
   "cell_type": "markdown",
   "metadata": {},
   "source": [
    "ResNet50"
   ]
  },
  {
   "cell_type": "code",
   "execution_count": 24,
   "metadata": {},
   "outputs": [
    {
     "name": "stdout",
     "output_type": "stream",
     "text": [
      "Epoch 1/10\n",
      "928/928 [==============================] - ETA: 0s - loss: 0.4171 - accuracy: 0.8229\n",
      "Epoch 1: val_loss did not improve from 0.47739\n",
      "928/928 [==============================] - 1056s 1s/step - loss: 0.4171 - accuracy: 0.8229 - val_loss: 0.5416 - val_accuracy: 0.7934\n",
      "Epoch 2/10\n",
      "928/928 [==============================] - ETA: 0s - loss: 0.3056 - accuracy: 0.8714\n",
      "Epoch 2: val_loss did not improve from 0.47739\n",
      "928/928 [==============================] - 1039s 1s/step - loss: 0.3056 - accuracy: 0.8714 - val_loss: 0.7736 - val_accuracy: 0.7794\n",
      "Epoch 3/10\n",
      "928/928 [==============================] - ETA: 0s - loss: 0.2676 - accuracy: 0.8900\n",
      "Epoch 3: val_loss did not improve from 0.47739\n",
      "928/928 [==============================] - 1038s 1s/step - loss: 0.2676 - accuracy: 0.8900 - val_loss: 0.9145 - val_accuracy: 0.7239\n",
      "Epoch 4/10\n",
      "928/928 [==============================] - ETA: 0s - loss: 0.2569 - accuracy: 0.8944\n",
      "Epoch 4: val_loss did not improve from 0.47739\n",
      "928/928 [==============================] - 1038s 1s/step - loss: 0.2569 - accuracy: 0.8944 - val_loss: 0.7849 - val_accuracy: 0.7409\n",
      "Epoch 5/10\n",
      "928/928 [==============================] - ETA: 0s - loss: 0.2400 - accuracy: 0.9014\n",
      "Epoch 5: val_loss did not improve from 0.47739\n",
      "928/928 [==============================] - 1038s 1s/step - loss: 0.2400 - accuracy: 0.9014 - val_loss: 0.8297 - val_accuracy: 0.7309\n",
      "Epoch 6/10\n",
      "928/928 [==============================] - ETA: 0s - loss: 0.2300 - accuracy: 0.9042\n",
      "Epoch 6: val_loss did not improve from 0.47739\n",
      "928/928 [==============================] - 1038s 1s/step - loss: 0.2300 - accuracy: 0.9042 - val_loss: 0.9146 - val_accuracy: 0.7145\n",
      "Epoch 7/10\n",
      "928/928 [==============================] - ETA: 0s - loss: 0.2168 - accuracy: 0.9113\n",
      "Epoch 7: val_loss did not improve from 0.47739\n",
      "928/928 [==============================] - 1041s 1s/step - loss: 0.2168 - accuracy: 0.9113 - val_loss: 0.8556 - val_accuracy: 0.7502\n",
      "Epoch 8/10\n",
      "928/928 [==============================] - ETA: 0s - loss: 0.2191 - accuracy: 0.9107\n",
      "Epoch 8: val_loss did not improve from 0.47739\n",
      "928/928 [==============================] - 1040s 1s/step - loss: 0.2191 - accuracy: 0.9107 - val_loss: 0.8478 - val_accuracy: 0.7309\n",
      "Epoch 9/10\n",
      "928/928 [==============================] - ETA: 0s - loss: 0.2122 - accuracy: 0.9133\n",
      "Epoch 9: val_loss did not improve from 0.47739\n",
      "928/928 [==============================] - 1038s 1s/step - loss: 0.2122 - accuracy: 0.9133 - val_loss: 0.6455 - val_accuracy: 0.7743\n",
      "Epoch 10/10\n",
      "928/928 [==============================] - ETA: 0s - loss: 0.2056 - accuracy: 0.9162\n",
      "Epoch 10: val_loss did not improve from 0.47739\n",
      "928/928 [==============================] - 1048s 1s/step - loss: 0.2056 - accuracy: 0.9162 - val_loss: 0.8422 - val_accuracy: 0.7350\n"
     ]
    }
   ],
   "source": [
    "'''from tensorflow.keras.applications import ResNet50\n",
    "r_freeze = ResNet50(weights='imagenet', include_top=False, input_shape=(250,250,3))\n",
    "r_freeze.trainable = False\n",
    "\n",
    "# data augmented model\n",
    "data_aug = tf.keras.Sequential(\n",
    "    [crop, zoom, rotate, flip, translate, contrast]\n",
    ")\n",
    "\n",
    "# Model 2\n",
    "inputs = tf.keras.Input(shape=(299, 299, 3))\n",
    "x = data_aug(inputs)\n",
    "x = tf.keras.applications.resnet.preprocess_input(x)\n",
    "x = r_freeze(x, training=False)\n",
    "x = layers.Flatten()(x)\n",
    "x = tf.keras.layers.Dense(128, activation = 'relu')(x)\n",
    "x = layers.BatchNormalization()(x)\n",
    "x = tf.keras.layers.Dropout(0.3)(x)\n",
    "outputs = layers.Dense(2, activation=\"softmax\")(x)\n",
    "r_mod2 = tf.keras.Model(inputs, outputs)\n",
    "\n",
    "r_mod2.compile(\n",
    "    optimizer = tf.keras.optimizers.Adam(0.00001),\n",
    "    loss = 'sparse_categorical_crossentropy',\n",
    "    metrics = ['accuracy']\n",
    ")\n",
    "early_stop_trf = CustomStopper(monitor='val_loss', verbose=1, restore_best_weights=True, start_epoch=10)\n",
    "\n",
    "#result_r = r_mod2.fit(tf_dataset_train, epochs=10, batch_size = 8, validation_data=tf_dataset_val, callbacks=[early_stop_trf, checkpoint], verbose= 1)'''\n",
    "\n",
    "# I SAVED THE TRAINING TEXT\n",
    "with open('./res/r_mod2_textOutput.txt') as f_in:\n",
    "    print(f_in.read())"
   ]
  },
  {
   "cell_type": "markdown",
   "metadata": {},
   "source": [
    "### SAVE AND LOAD MODELS AND TRAINING HISTORY"
   ]
  },
  {
   "cell_type": "code",
   "execution_count": 25,
   "metadata": {},
   "outputs": [],
   "source": [
    "import pickle\n",
    "'''r_mod2.save('./res/r_mod2.keras')\n",
    "\n",
    "with open('./res/result_r.pickle', 'wb') as f_out:\n",
    "    pickle.dump(result_r.history, f_out)\n",
    "'''\n",
    "\n",
    "# load model\n",
    "r_mod = tf.keras.models.load_model('./res/r_mod2.keras')\n",
    "\n",
    "with open('./res/result_r.pickle', 'rb') as f_in:\n",
    "    r_hist = pickle.load(f_in)"
   ]
  },
  {
   "cell_type": "markdown",
   "metadata": {},
   "source": [
    "## CONTINUE TRANING TO PERFORM EARLY STOPPING\n",
    "\n",
    "I admit that I made a mistake. For ALL the models, **I put the number of epochs as the required MINIMUM number of epochs so early stopping couldn't perform**. <br>\n",
    "So, I decided to re-load the models and **CONTINUE TRAINING** and perform early stopping then. <br>\n",
    "Since I did not do early stopping before, I will continue training on the same dataset and perform early stopping there."
   ]
  },
  {
   "cell_type": "code",
   "execution_count": 26,
   "metadata": {},
   "outputs": [
    {
     "name": "stdout",
     "output_type": "stream",
     "text": [
      "Epoch 1/50\n",
      "928/928 [==============================] - ETA: 0s - loss: 0.1991 - accuracy: 0.9199\n",
      "Epoch 1: val_loss improved from inf to 0.97813, saving model to ./res\\en_es_mod.hdf5\n",
      "928/928 [==============================] - 1030s 1s/step - loss: 0.1991 - accuracy: 0.9199 - val_loss: 0.9781 - val_accuracy: 0.6900\n",
      "Epoch 2/50\n",
      "928/928 [==============================] - ETA: 0s - loss: 0.1938 - accuracy: 0.9231Restoring model weights from the end of the best epoch: 1.\n",
      "\n",
      "Epoch 2: val_loss did not improve from 0.97813\n",
      "928/928 [==============================] - 1010s 1s/step - loss: 0.1938 - accuracy: 0.9231 - val_loss: 1.1081 - val_accuracy: 0.6707\n",
      "Epoch 2: early stopping\n"
     ]
    }
   ],
   "source": [
    "'''# set early stop\n",
    "early_stop = EarlyStopping(monitor='val_loss', verbose=1, restore_best_weights=True)\n",
    "\n",
    "# set checkpoint\n",
    "checkpoint = ModelCheckpoint('./res/en_es_mod.hdf5', monitor='val_loss', verbose=1,\n",
    "                             save_best_only=True, save_weights_only=False,\n",
    "                             mode='auto', save_frequency=1)\n",
    "\n",
    "# continue training\n",
    "r_es_hist = r_mod.fit(tf_dataset_train, epochs=50, validation_data=tf_dataset_val, callbacks=[early_stop, checkpoint], verbose= 1, batch_size = 32)\n",
    "'''\n",
    "# I SAVED THE TRAINING TEXT\n",
    "with open('./res/r_es_textOutput.txt') as f_in:\n",
    "    print(f_in.read())"
   ]
  },
  {
   "cell_type": "code",
   "execution_count": 27,
   "metadata": {},
   "outputs": [],
   "source": [
    "'''r_mod.save('./res/mod_r_es.keras')\n",
    "\n",
    "with open('./res/result_r_es.pickle', 'wb') as f_out:\n",
    "    pickle.dump(r_es_hist.history, f_out)\n",
    "'''\n",
    "r_es = tf.keras.models.load_model('./res/mod_r_es.keras')\n",
    "\n",
    "with open('./res/result_r_es.pickle', 'rb') as f_in:\n",
    "    r_es_hist1 = pickle.load(f_in)"
   ]
  },
  {
   "cell_type": "markdown",
   "metadata": {},
   "source": [
    "Model summary:\n",
    "\n",
    "The first sequential layer after inputs is my data augmentation layer (you can check above)"
   ]
  },
  {
   "cell_type": "code",
   "execution_count": 41,
   "metadata": {},
   "outputs": [
    {
     "name": "stdout",
     "output_type": "stream",
     "text": [
      "Model: \"model_7\"\n",
      "_________________________________________________________________\n",
      " Layer (type)                Output Shape              Param #   \n",
      "=================================================================\n",
      " input_23 (InputLayer)       [(None, 299, 299, 3)]     0         \n",
      "                                                                 \n",
      " sequential_16 (Sequential)  (None, 250, 250, 3)       0         \n",
      "                                                                 \n",
      " tf.__operators__.getitem_5   (None, 250, 250, 3)      0         \n",
      " (SlicingOpLambda)                                               \n",
      "                                                                 \n",
      " tf.nn.bias_add_5 (TFOpLambd  (None, 250, 250, 3)      0         \n",
      " a)                                                              \n",
      "                                                                 \n",
      " resnet50 (Functional)       (None, 8, 8, 2048)        23587712  \n",
      "                                                                 \n",
      " flatten_10 (Flatten)        (None, 131072)            0         \n",
      "                                                                 \n",
      " dense_26 (Dense)            (None, 128)               16777344  \n",
      "                                                                 \n",
      " batch_normalization_25 (Bat  (None, 128)              512       \n",
      " chNormalization)                                                \n",
      "                                                                 \n",
      " dropout_28 (Dropout)        (None, 128)               0         \n",
      "                                                                 \n",
      " dense_27 (Dense)            (None, 2)                 258       \n",
      "                                                                 \n",
      "=================================================================\n",
      "Total params: 40,365,826\n",
      "Trainable params: 16,777,858\n",
      "Non-trainable params: 23,587,968\n",
      "_________________________________________________________________\n"
     ]
    }
   ],
   "source": [
    "r_es.summary()"
   ]
  },
  {
   "cell_type": "markdown",
   "metadata": {},
   "source": [
    "Combine history between both epochs to plot:"
   ]
  },
  {
   "cell_type": "code",
   "execution_count": 28,
   "metadata": {},
   "outputs": [],
   "source": [
    "# copy hist\n",
    "r_finalhist = dict(r_hist)\n",
    "\n",
    "for k in r_finalhist.keys():\n",
    "\n",
    "    # append to \n",
    "    r_finalhist[k].extend(r_es_hist1[k])"
   ]
  },
  {
   "cell_type": "markdown",
   "metadata": {},
   "source": [
    "PLOT TRAINING AND VALIDATION ERROR VS EPOCHS"
   ]
  },
  {
   "cell_type": "code",
   "execution_count": 29,
   "metadata": {},
   "outputs": [
    {
     "data": {
      "image/png": "[encoded data removed]",
      "text/plain": [
       "<Figure size 640x480 with 1 Axes>"
      ]
     },
     "metadata": {},
     "output_type": "display_data"
    }
   ],
   "source": [
    "plot_trainVal(r_finalhist['accuracy'], r_finalhist['val_accuracy'])"
   ]
  },
  {
   "cell_type": "markdown",
   "metadata": {},
   "source": [
    "Comments: <br>\n",
    "\n",
    "Again, the training error is incredibly volatile, and that's after heavy augmentation and lowering the learning rate. <br>\n",
    "It seems that the validation error keeps increasing, which is bizzare as it's expected to decrease. <br>\n",
    "\n",
    "BUT NO FREE LUNCH"
   ]
  },
  {
   "cell_type": "markdown",
   "metadata": {},
   "source": [
    "Training, validation, and testing metrics:"
   ]
  },
  {
   "cell_type": "code",
   "execution_count": 30,
   "metadata": {},
   "outputs": [
    {
     "name": "stdout",
     "output_type": "stream",
     "text": [
      "Training: recall: 0.9952992432928227, precision: 0.8999585320340038, f1: 0.9452308362369338, accuracy: 0.9322079584891674\n",
      "\n",
      "Validation: recall: 1.0, precision: 0.5093254802972935, f1: 0.6749047663290905, accuracy: 0.6899698741804005\n",
      "\n",
      "Testing: recall: 0.9960737656157049, precision: 0.8569966219674481, f1: 0.9213161659513591, accuracy: 0.8884816345628948\n",
      "\n"
     ]
    }
   ],
   "source": [
    "r_train = get_recall_precision_f1_accuracy(tf_dataset_train, r_es)\n",
    "r_val = get_recall_precision_f1_accuracy(tf_dataset_val, r_es)\n",
    "r_test = get_recall_precision_f1_accuracy(tf_dataset_test, r_es)\n",
    "print('Training: recall: {}, precision: {}, f1: {}, accuracy: {}\\n'.format(r_train[0], r_train[1], r_train[2], r_train[3]))\n",
    "print('Validation: recall: {}, precision: {}, f1: {}, accuracy: {}\\n'.format(r_val[0], r_val[1], r_val[2], r_val[3]))\n",
    "print('Testing: recall: {}, precision: {}, f1: {}, accuracy: {}\\n'.format(r_test[0], r_test[1], r_test[2], r_test[3]))"
   ]
  },
  {
   "cell_type": "markdown",
   "metadata": {},
   "source": [
    "Honestly, the accuracy is pretty high. Though, not as high as the EfficientNetB0. Recall, precision, F1 are also incredibly high. That's really good."
   ]
  },
  {
   "cell_type": "markdown",
   "metadata": {},
   "source": [
    "VGG16"
   ]
  },
  {
   "cell_type": "code",
   "execution_count": 31,
   "metadata": {},
   "outputs": [
    {
     "name": "stdout",
     "output_type": "stream",
     "text": [
      "Epoch 1/10\n",
      "928/928 [==============================] - ETA: 0s - loss: 0.6087 - accuracy: 0.7340\n",
      "Epoch 1: val_loss improved from 0.47739 to 0.44864, saving model to ./res\\mod_1.hdf5\n",
      "928/928 [==============================] - 1357s 1s/step - loss: 0.6087 - accuracy: 0.7340 - val_loss: 0.4486 - val_accuracy: 0.7884\n",
      "Epoch 2/10\n",
      "928/928 [==============================] - ETA: 0s - loss: 0.4933 - accuracy: 0.7870\n",
      "Epoch 2: val_loss improved from 0.44864 to 0.41049, saving model to ./res\\mod_1.hdf5\n",
      "928/928 [==============================] - 1326s 1s/step - loss: 0.4933 - accuracy: 0.7870 - val_loss: 0.4105 - val_accuracy: 0.8058\n",
      "Epoch 3/10\n",
      "928/928 [==============================] - ETA: 0s - loss: 0.4401 - accuracy: 0.8111\n",
      "Epoch 3: val_loss did not improve from 0.41049\n",
      "928/928 [==============================] - 1329s 1s/step - loss: 0.4401 - accuracy: 0.8111 - val_loss: 0.4387 - val_accuracy: 0.7921\n",
      "Epoch 4/10\n",
      "928/928 [==============================] - ETA: 0s - loss: 0.4295 - accuracy: 0.8159\n",
      "Epoch 4: val_loss did not improve from 0.41049\n",
      "928/928 [==============================] - 1339s 1s/step - loss: 0.4295 - accuracy: 0.8159 - val_loss: 0.5265 - val_accuracy: 0.7496\n",
      "Epoch 5/10\n",
      "928/928 [==============================] - ETA: 0s - loss: 0.4094 - accuracy: 0.8232\n",
      "Epoch 5: val_loss did not improve from 0.41049\n",
      "928/928 [==============================] - 1345s 1s/step - loss: 0.4094 - accuracy: 0.8232 - val_loss: 0.4336 - val_accuracy: 0.7981\n",
      "Epoch 6/10\n",
      "928/928 [==============================] - ETA: 0s - loss: 0.3926 - accuracy: 0.8316\n",
      "Epoch 6: val_loss did not improve from 0.41049\n",
      "928/928 [==============================] - 1325s 1s/step - loss: 0.3926 - accuracy: 0.8316 - val_loss: 0.4566 - val_accuracy: 0.7824\n",
      "Epoch 7/10\n",
      "928/928 [==============================] - ETA: 0s - loss: 0.3735 - accuracy: 0.8417\n",
      "Epoch 7: val_loss improved from 0.41049 to 0.38673, saving model to ./res\\mod_1.hdf5\n",
      "928/928 [==============================] - 1344s 1s/step - loss: 0.3735 - accuracy: 0.8417 - val_loss: 0.3867 - val_accuracy: 0.8181\n",
      "Epoch 8/10\n",
      "928/928 [==============================] - ETA: 0s - loss: 0.3698 - accuracy: 0.8405\n",
      "Epoch 8: val_loss did not improve from 0.38673\n",
      "928/928 [==============================] - 1332s 1s/step - loss: 0.3698 - accuracy: 0.8405 - val_loss: 0.4621 - val_accuracy: 0.7828\n",
      "Epoch 9/10\n",
      "928/928 [==============================] - ETA: 0s - loss: 0.3573 - accuracy: 0.8452\n",
      "Epoch 9: val_loss did not improve from 0.38673\n",
      "928/928 [==============================] - 1324s 1s/step - loss: 0.3573 - accuracy: 0.8452 - val_loss: 0.4123 - val_accuracy: 0.8034\n",
      "Epoch 10/10\n",
      "928/928 [==============================] - ETA: 0s - loss: 0.3520 - accuracy: 0.8501\n",
      "Epoch 10: val_loss did not improve from 0.38673\n",
      "928/928 [==============================] - 1314s 1s/step - loss: 0.3520 - accuracy: 0.8501 - val_loss: 0.4357 - val_accuracy: 0.7959\n"
     ]
    }
   ],
   "source": [
    "'''from tensorflow.keras.applications import VGG16\n",
    "v_freeze = VGG16(weights='imagenet', include_top=False, input_shape=(250,250,3))\n",
    "v_freeze.trainable = False\n",
    "\n",
    "# data augmented model\n",
    "data_aug = tf.keras.Sequential(\n",
    "    [crop, zoom, rotate, flip, translate, contrast]\n",
    ")\n",
    "\n",
    "# Model 2\n",
    "inputs = tf.keras.Input(shape=(299, 299, 3))\n",
    "x = data_aug(inputs)\n",
    "x = tf.keras.applications.vgg16.preprocess_input(x)\n",
    "x = v_freeze(x, training=False)\n",
    "x = layers.Flatten()(x)\n",
    "x = tf.keras.layers.Dense(128, activation = 'relu')(x)\n",
    "x = layers.BatchNormalization()(x)\n",
    "x = tf.keras.layers.Dropout(0.3)(x)\n",
    "outputs = layers.Dense(2, activation=\"softmax\")(x)\n",
    "v_mod2 = tf.keras.Model(inputs, outputs)\n",
    "\n",
    "v_mod2.compile(\n",
    "    optimizer = tf.keras.optimizers.Adam(0.00001),\n",
    "    loss = 'sparse_categorical_crossentropy',\n",
    "    metrics = ['accuracy']\n",
    ")\n",
    "early_stop_trf = CustomStopper(monitor='val_loss', verbose=1, restore_best_weights=True, start_epoch=10)\n",
    "'''\n",
    "# result_v = v_mod2.fit(tf_dataset_train, epochs=10, batch_size = 8, validation_data=tf_dataset_val, callbacks=[early_stop_trf, checkpoint], verbose= 1)\n",
    "\n",
    "# I SAVED THE TRAINING TEXT\n",
    "with open('./res/v_mod2_textOutput.txt') as f_in:\n",
    "    print(f_in.read())"
   ]
  },
  {
   "cell_type": "markdown",
   "metadata": {},
   "source": [
    "### SAVE AND LOAD MODELS AND TRAINING HISTORY"
   ]
  },
  {
   "cell_type": "code",
   "execution_count": 32,
   "metadata": {},
   "outputs": [],
   "source": [
    "import pickle\n",
    "import tensorflow as tf\n",
    "'''v_mod2.save('./res/v_mod2.keras')\n",
    "\n",
    "with open('./res/result_v.pickle', 'wb') as f_out:\n",
    "    pickle.dump(result_v.history, f_out)\n",
    "'''\n",
    "v_mod = tf.keras.models.load_model('./res/v_mod2.keras')\n",
    "with open('./res/result_v.pickle', 'rb') as f_in:\n",
    "    v_hist = pickle.load(f_in)"
   ]
  },
  {
   "cell_type": "markdown",
   "metadata": {},
   "source": [
    "## CONTINUE TRANING TO PERFORM EARLY STOPPING\n",
    "\n",
    "I admit that I made a mistake. For ALL the models, **I put the number of epochs as the required MINIMUM number of epochs so early stopping couldn't perform**. <br>\n",
    "So, I decided to re-load the models and **CONTINUE TRAINING** and perform early stopping then. <br>\n",
    "Since I did not do early stopping before, I will continue training on the same dataset and perform early stopping there."
   ]
  },
  {
   "cell_type": "code",
   "execution_count": 33,
   "metadata": {},
   "outputs": [
    {
     "name": "stdout",
     "output_type": "stream",
     "text": [
      "Epoch 1/50\n",
      "928/928 [==============================] - ETA: 0s - loss: 0.3426 - accuracy: 0.8529\n",
      "Epoch 1: val_loss improved from inf to 0.45490, saving model to ./res\\en_es_mod.hdf5\n",
      "928/928 [==============================] - 1315s 1s/step - loss: 0.3426 - accuracy: 0.8529 - val_loss: 0.4549 - val_accuracy: 0.7853\n",
      "Epoch 2/50\n",
      "928/928 [==============================] - ETA: 0s - loss: 0.3329 - accuracy: 0.8571Restoring model weights from the end of the best epoch: 1.\n",
      "\n",
      "Epoch 2: val_loss did not improve from 0.45490\n",
      "928/928 [==============================] - 1304s 1s/step - loss: 0.3329 - accuracy: 0.8571 - val_loss: 0.5182 - val_accuracy: 0.7588\n",
      "Epoch 2: early stopping\n"
     ]
    }
   ],
   "source": [
    "'''# set early stop\n",
    "early_stop = EarlyStopping(monitor='val_loss', verbose=1, restore_best_weights=True)\n",
    "\n",
    "# set checkpoint\n",
    "checkpoint = ModelCheckpoint('./res/en_es_mod.hdf5', monitor='val_loss', verbose=1,\n",
    "                             save_best_only=True, save_weights_only=False,\n",
    "                             mode='auto', save_frequency=1)\n",
    "\n",
    "# continue training\n",
    "v_es_hist = v_mod.fit(tf_dataset_train, epochs=50, validation_data=tf_dataset_val, callbacks=[early_stop, checkpoint], verbose= 1, batch_size = 32)'''\n",
    "\n",
    "# I SAVED THE TRAINING TEXT\n",
    "with open('./res/v_es_textOutput.txt') as f_in:\n",
    "    print(f_in.read())"
   ]
  },
  {
   "cell_type": "code",
   "execution_count": 34,
   "metadata": {},
   "outputs": [],
   "source": [
    "'''v_mod.save('./res/mod_v_es.keras')\n",
    "\n",
    "with open('./res/result_v_es.pickle', 'wb') as f_out:\n",
    "    pickle.dump(v_es_hist.history, f_out)\n",
    "'''\n",
    "v_es = tf.keras.models.load_model('./res/mod_v_es.keras')\n",
    "\n",
    "with open('./res/result_v_es.pickle', 'rb') as f_in:\n",
    "    v_es_hist1 = pickle.load(f_in)"
   ]
  },
  {
   "cell_type": "markdown",
   "metadata": {},
   "source": [
    "Model summary:\n",
    "\n",
    "The first sequential layer after inputs is my data augmentation layer (you can check above)"
   ]
  },
  {
   "cell_type": "code",
   "execution_count": 38,
   "metadata": {},
   "outputs": [
    {
     "name": "stdout",
     "output_type": "stream",
     "text": [
      "Model: \"model_8\"\n",
      "_________________________________________________________________\n",
      " Layer (type)                Output Shape              Param #   \n",
      "=================================================================\n",
      " input_25 (InputLayer)       [(None, 299, 299, 3)]     0         \n",
      "                                                                 \n",
      " sequential_17 (Sequential)  (None, 250, 250, 3)       0         \n",
      "                                                                 \n",
      " tf.__operators__.getitem_6   (None, 250, 250, 3)      0         \n",
      " (SlicingOpLambda)                                               \n",
      "                                                                 \n",
      " tf.nn.bias_add_6 (TFOpLambd  (None, 250, 250, 3)      0         \n",
      " a)                                                              \n",
      "                                                                 \n",
      " vgg16 (Functional)          (None, 7, 7, 512)         14714688  \n",
      "                                                                 \n",
      " flatten_11 (Flatten)        (None, 25088)             0         \n",
      "                                                                 \n",
      " dense_28 (Dense)            (None, 128)               3211392   \n",
      "                                                                 \n",
      " batch_normalization_26 (Bat  (None, 128)              512       \n",
      " chNormalization)                                                \n",
      "                                                                 \n",
      " dropout_29 (Dropout)        (None, 128)               0         \n",
      "                                                                 \n",
      " dense_29 (Dense)            (None, 2)                 258       \n",
      "                                                                 \n",
      "=================================================================\n",
      "Total params: 17,926,850\n",
      "Trainable params: 3,211,906\n",
      "Non-trainable params: 14,714,944\n",
      "_________________________________________________________________\n"
     ]
    }
   ],
   "source": [
    "v_es.summary()"
   ]
  },
  {
   "cell_type": "markdown",
   "metadata": {},
   "source": [
    "Combine history between both epochs to plot:"
   ]
  },
  {
   "cell_type": "code",
   "execution_count": 35,
   "metadata": {},
   "outputs": [],
   "source": [
    "# copy hist\n",
    "v_finalhist = dict(v_hist)\n",
    "\n",
    "for k in v_finalhist.keys():\n",
    "\n",
    "    # append to \n",
    "    v_finalhist[k].extend(v_es_hist1[k])"
   ]
  },
  {
   "cell_type": "markdown",
   "metadata": {},
   "source": [
    "PLOT TRAINING AND VALIDATION ERROR VS EPOCHS"
   ]
  },
  {
   "cell_type": "code",
   "execution_count": 36,
   "metadata": {},
   "outputs": [
    {
     "data": {
      "image/png": "[encoded data removed]",
      "text/plain": [
       "<Figure size 640x480 with 1 Axes>"
      ]
     },
     "metadata": {},
     "output_type": "display_data"
    }
   ],
   "source": [
    "plot_trainVal(v_finalhist['accuracy'], v_finalhist['val_accuracy'])"
   ]
  },
  {
   "cell_type": "markdown",
   "metadata": {},
   "source": [
    "Comments: <br>\n",
    "It has the best looking Training & Validation error vs epochs graph."
   ]
  },
  {
   "cell_type": "markdown",
   "metadata": {},
   "source": [
    "Training, validation, and testing metrics:"
   ]
  },
  {
   "cell_type": "code",
   "execution_count": 37,
   "metadata": {},
   "outputs": [
    {
     "name": "stdout",
     "output_type": "stream",
     "text": [
      "Training: recall: 0.971107544141252, precision: 0.8858442712963447, f1: 0.926518445593021, accuracy: 0.9094646046025809\n",
      "\n",
      "Validation: recall: 0.9790748898678414, precision: 0.6024055564966966, f1: 0.745883586785527, accuracy: 0.7853092326776537\n",
      "\n",
      "Testing: recall: 0.9684711481261155, precision: 0.8824804856895057, f1: 0.9234783595212435, accuracy: 0.894798409108633\n",
      "\n"
     ]
    }
   ],
   "source": [
    "v_train = get_recall_precision_f1_accuracy(tf_dataset_train, v_es)\n",
    "v_val = get_recall_precision_f1_accuracy(tf_dataset_val, v_es)\n",
    "v_test = get_recall_precision_f1_accuracy(tf_dataset_test, v_es)\n",
    "print('Training: recall: {}, precision: {}, f1: {}, accuracy: {}\\n'.format(v_train[0], v_train[1], v_train[2], v_train[3]))\n",
    "print('Validation: recall: {}, precision: {}, f1: {}, accuracy: {}\\n'.format(v_val[0], v_val[1], v_val[2], v_val[3]))\n",
    "print('Testing: recall: {}, precision: {}, f1: {}, accuracy: {}\\n'.format(v_test[0], v_test[1], v_test[2], v_test[3]))"
   ]
  },
  {
   "cell_type": "markdown",
   "metadata": {},
   "source": [
    "Though the graph looks great, I found that the accuracy and f1 is considerably lower than the other two, even though its loss is very low in training. <br>\n",
    "This is maybe the model overfits during training, which leads to poor testing results.<br>\n",
    "Still better than our first model though."
   ]
  },
  {
   "cell_type": "markdown",
   "metadata": {},
   "source": [
    "## COMPARISON BETWEEN CNN-MLP AND TRANSFER LEARNING MODELS\n",
    "\n",
    "**RESULTS:** <br>\n",
    "\n",
    "CNN+MLP: <br>\n",
    "Training: recall: 0.9112588855767025, precision: 0.7598833596252211, f1: 0.8287151682610848, accuracy: 0.7785976616462819\n",
    "\n",
    "Validation: recall: 0.9460352422907489, precision: 0.47301762114537443, f1: 0.630690161527166, accuracy: 0.643452064504696\n",
    "\n",
    "Testing: recall: 0.9136228435455086, precision: 0.792057761732852, f1: 0.8485082872928178, accuracy: 0.7861654838961242\n",
    "\n",
    "EfficientNetB0: <br>\n",
    "Training: recall: 0.9468585186883742, precision: 0.9162875846000222, f1: 0.931322244149986, accuracy: 0.9179217628626302\n",
    "\n",
    "Validation: recall: 0.9848568281938326, precision: 0.5771216521458535, f1: 0.7277721261444557, accuracy: 0.7628920786815524\n",
    "\n",
    "Testing: recall: 0.9906008328375967, precision: 0.9093490607252075, f1: 0.9482375718922613, accuracy: 0.9291117523200499\n",
    "\n",
    "ResNet50: <br>\n",
    "Training: recall: 0.9952992432928227, precision: 0.8999585320340038, f1: 0.9452308362369338, accuracy: 0.9322079584891674\n",
    "\n",
    "Validation: recall: 1.0, precision: 0.5093254802972935, f1: 0.6749047663290905, accuracy: 0.6899698741804005\n",
    "\n",
    "Testing: recall: 0.9960737656157049, precision: 0.8569966219674481, f1: 0.9213161659513591, accuracy: 0.8884816345628948\n",
    "\n",
    "VGG16: <br>\n",
    "Training: recall: 0.971107544141252, precision: 0.8858442712963447, f1: 0.926518445593021, accuracy: 0.9094646046025809\n",
    "\n",
    "Validation: recall: 0.9790748898678414, precision: 0.6024055564966966, f1: 0.745883586785527, accuracy: 0.7853092326776537\n",
    "\n",
    "Testing: recall: 0.9684711481261155, precision: 0.8824804856895057, f1: 0.9234783595212435, accuracy: 0.894798409108633\n",
    "\n",
    "**Comments:** <br>\n",
    "I think it's safe to say that learning models have a much greater performance for half of the epochs used. <br>\n",
    "By using pre-trained weights, we could reduce training time, while still outperforming models from scratch. <br>\n",
    "\n",
    "However, I noticed that for the transfer learning models, the models past the first epoch generally doesn't lower the validation loss by much  <br>\n",
    "This suggests that the pre-trained weights are really good initial weight initializations compared to the CNN+MLP from scratch. <br>\n",
    "This is because for the CNN+MLP, we had its weights intialize from random, which does not have any meaningful basis to work on. <br>\n",
    "Which results in a much longer time to reach to the performance of these pre-trained models and/or to train at all. <br>\n",
    "This also results in the CNN+MLP model having a hard time to reach a lower local minimum as weights are initialized at random.\n",
    "\n",
    "Between the 4 models, EfficientNetB0 achieved the best test F1_score and accuracy score. <br>\n",
    "This means that EfficientNetB0 can predict classes fairly accurately and doesn't tend to be good at only one class, which the CNN+MLP is (better with positive class). <br>\n",
    "\n",
    "Honestly, this taught me a very good lesson on transfer learning. In the future, I will use pre-trained models as a basis for future model training."
   ]
  },
  {
   "cell_type": "markdown",
   "metadata": {},
   "source": [
    "# References\n",
    "\n",
    "Data Augment\n",
    "- https://www.tensorflow.org/tutorials/images/data_augmentation\n",
    "\n",
    "Enabling GPU\n",
    "- https://www.tensorflow.org/install/pip#windows-native\n",
    "\n",
    "Augment:\n",
    "- https://keras.io/api/layers/preprocessing_layers/image_augmentation/\n",
    "\n",
    "CNN tutorial:\n",
    "- https://pyimagesearch.com/2018/12/31/keras-conv2d-and-convolutional-layers/\n",
    "\n",
    "Keras compile:\n",
    "- https://keras.io/api/models/model_training_apis/\n",
    "\n",
    "EfficientNetB0:\n",
    "- https://www.tensorflow.org/api_docs/python/tf/keras/applications/efficientnet/EfficientNetB0\n",
    "\n",
    "ResNet50:\n",
    "- https://keras.io/api/applications/resnet/\n",
    "\n",
    "VGG16:\n",
    "- https://keras.io/api/applications/vgg/"
   ]
  }
 ],
 "metadata": {
  "kernelspec": {
   "display_name": "Python 3 (ipykernel)",
   "language": "python",
   "name": "python3"
  },
  "language_info": {
   "codemirror_mode": {
    "name": "ipython",
    "version": 3
   },
   "file_extension": ".py",
   "mimetype": "text/x-python",
   "name": "python",
   "nbconvert_exporter": "python",
   "pygments_lexer": "ipython3",
   "version": "3.9.12"
  }
 },
 "nbformat": 4,
 "nbformat_minor": 2
}
